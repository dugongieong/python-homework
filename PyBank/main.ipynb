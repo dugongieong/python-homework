{
 "cells": [
  {
   "cell_type": "code",
   "execution_count": 3,
   "id": "b354d28f-a4de-46ff-a50e-908cdbaf86a6",
   "metadata": {},
   "outputs": [
    {
     "name": "stdout",
     "output_type": "stream",
     "text": [
      "Financial Analysis\n",
      "--------------------------\n",
      "total months: 86\n",
      "Total: $38382578\n",
      "Average change: $-2315.12\n",
      "Greatest Increase in Profits: Feb-2012 $1926159\n",
      "Greatest Decrease in Profits: Sep-2013 $-2196167\n"
     ]
    }
   ],
   "source": [
    "# Import the pathlib and csv library\n",
    "from pathlib import Path\n",
    "import csv\n",
    "\n",
    "# Set path to collect data \n",
    "csvpath = Path('Resources', 'budget_data.csv')\n",
    "\n",
    "# Open/Read Budget_Data.csv as an object\n",
    "with open(csvpath, \"r\") as csvfile:\n",
    "    \n",
    "    # Pass in the csv file to the csv.reader() function\n",
    "    # (with ',' as the delmiter/separator) and return the csvreader object\n",
    "    csvreader = csv.reader(csvfile, delimiter=\",\")\n",
    "    \n",
    "    # Skip the header row first\n",
    "    csv_header = next(csvfile)\n",
    "\n",
    "    # Initialize list of the 'profit', 'total_difference' and 'revenue_difference'\n",
    "    profit = []\n",
    "    months = []\n",
    "    revenue_difference = []\n",
    "\n",
    "    # Append the column 'profit' and 'months' to the header\n",
    "    # readability, convert strings to ints for numerical calculations\n",
    "    for rows in csvreader:\n",
    "        profit.append(int(rows[1]))\n",
    "        months.append(rows[0])\n",
    "    \n",
    "    # Loop over each row of data after the header to find differnece between two cells \n",
    "    for data in range(1, len(profit)):\n",
    "        revenue_difference.append((int(profit[data]) - (profit[data-1])))\n",
    "            \n",
    "    # calculate average revenue change\n",
    "    revenue_average = sum(revenue_difference) / len(revenue_difference)\n",
    "    \n",
    "    # print the Results\n",
    "    print(\"Financial Analysis\")\n",
    "\n",
    "    print(\"--------------------------\")\n",
    "\n",
    "    print(\"total months: \" + str(len(months)))\n",
    "    \n",
    "    print(\"Total: \" + \"$\" + str(sum(profit))) \n",
    "\n",
    "    print(\"Average change: \" + \"$\" + str(round(revenue_average,2)))\n",
    "    \n",
    "    print(\"Greatest Increase in Profits: \" + str(months[revenue_difference.index(max(revenue_difference))+1]) + \" $\" + (str(max(revenue_difference))))\n",
    "    \n",
    "    print(\"Greatest Decrease in Profits: \" + str(months[revenue_difference.index(min(revenue_difference))+1]) + \" \" + \"$\" + str(min(revenue_difference)))\n",
    "    \n",
    "    # output to a text file\n",
    "\n",
    "    file = open(\"output.txt\",\"w\")\n",
    "\n",
    "    file.write(\"Financial Analysis\" + \"\\n\")\n",
    "\n",
    "    file.write(\"--------------------------\" + \"\\n\")\n",
    "\n",
    "    file.write(\"total months: \" + str(len(months)) + \"\\n\")\n",
    "\n",
    "    file.write(\"Total: \" + \"$\" + str(sum(profit)) + \"\\n\")\n",
    "\n",
    "    file.write(\"Average change: \" + \"$\" + str(round(revenue_average,2)) + \"\\n\")\n",
    "    \n",
    "    file.write(\"Greatest Increase in Profits: \" + str(months[revenue_difference.index(max(revenue_difference))+1]) + \" $\" + (str(max(revenue_difference))) + \"\\n\")\n",
    "\n",
    "    file.write(\"Greatest Decrease in Profits: \" + str((months[revenue_difference.index(min(revenue_difference))+1]) + \" \" + \"$\" + str(min(revenue_difference))) + \"\\n\")\n",
    "\n",
    "    file.close()\n",
    "    \n",
    "       \n",
    "   "
   ]
  },
  {
   "cell_type": "code",
   "execution_count": null,
   "id": "c3f0fc17-23d0-4826-9039-dd6e91eb5a07",
   "metadata": {},
   "outputs": [],
   "source": []
  }
 ],
 "metadata": {
  "kernelspec": {
   "display_name": "Python 3 (ipykernel)",
   "language": "python",
   "name": "python3"
  },
  "language_info": {
   "codemirror_mode": {
    "name": "ipython",
    "version": 3
   },
   "file_extension": ".py",
   "mimetype": "text/x-python",
   "name": "python",
   "nbconvert_exporter": "python",
   "pygments_lexer": "ipython3",
   "version": "3.9.7"
  }
 },
 "nbformat": 4,
 "nbformat_minor": 5
}
